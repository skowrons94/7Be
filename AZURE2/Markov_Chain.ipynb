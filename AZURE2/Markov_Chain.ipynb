{
 "cells": [
  {
   "cell_type": "code",
   "execution_count": 1,
   "metadata": {},
   "outputs": [],
   "source": [
    "import os\n",
    "import emcee\n",
    "\n",
    "import numpy as np\n",
    "\n",
    "from glob import glob\n",
    "from scipy import stats\n",
    "from pyazr import azure2\n",
    "from multiprocess import Pool, current_process\n",
    "\n",
    "# Restrict processes to one thread only\n",
    "os.environ['OMP_NUM_THREADS'] = '1'\n",
    "\n",
    "# Define the data labels (in AZURE2 order)\n",
    "labels = [\"Meyer et al. (1976) - 84.3 deg\",\n",
    "          \"Meyer et al. (1976) - 114.5 deg\",\n",
    "          \"Meyer et al. (1976) - 144.1 deg\", \n",
    "          \"LUNA HPGe (2023)\", \n",
    "          \"LUNA BGO (2023)\",\n",
    "          \"Felsenkeller (2023)\",\n",
    "          \"ATOMKI (2023)\",\n",
    "          \"Notre Dame (2023) - 0 deg\",\n",
    "          \"Notre Dame (2023) - 55 deg\",\n",
    "          \"Burtebaev et al. (2008)\",\n",
    "          \"Lamb et al. (1957)\",\n",
    "          \"Bailey et al. (1950)\",\n",
    "          \"Vogl et al. (1963)\",\n",
    "          \"Rolfs et al. (1974) - 0 deg\",\n",
    "          \"Rolfs et al. (1974) - 90 deg\"]\n",
    "\n",
    "# Define the parameters prior distributions\n",
    "priors = [ ]\n",
    "\n",
    "# Minimization variables\n",
    "nsteps   = 100000       # How many steps should each walker take?\n",
    "nprocs   = 20           # How many Python processes do you want to allocate?"
   ]
  },
  {
   "cell_type": "code",
   "execution_count": 2,
   "metadata": {},
   "outputs": [
    {
     "name": "stdout",
     "output_type": "stream",
     "text": [
      "Calculating Lo-Matrix, Phases, and Penetrabilities...\n",
      "Calculating Legendre Polynomials...\n",
      "Calculating Coulomb Amplitudes...\n",
      "Calculating External Capture Amplitudes...\n",
      "Calculating Lo-Matrix, Phases, and Penetrabilities...\n",
      "Calculating Legendre Polynomials...\n",
      "Calculating Coulomb Amplitudes...\n",
      "Calculating External Capture Amplitudes...\n",
      "Calculating Lo-Matrix, Phases, and Penetrabilities...\n",
      "Calculating Legendre Polynomials...\n",
      "Calculating Coulomb Amplitudes...\n",
      "Calculating External Capture Amplitudes...\n",
      "Calculating Lo-Matrix, Phases, and Penetrabilities...\n",
      "Calculating Legendre Polynomials...\n",
      "Calculating Coulomb Amplitudes...\n",
      "Calculating External Capture Amplitudes...\n",
      "Calculating Lo-Matrix, Phases, and Penetrabilities...\n",
      "Calculating Legendre Polynomials...\n",
      "Calculating Coulomb Amplitudes...\n",
      "Calculating External Capture Amplitudes...\n",
      "Calculating Lo-Matrix, Phases, and Penetrabilities...\n",
      "Calculating Legendre Polynomials...\n",
      "Calculating Coulomb Amplitudes...\n",
      "Calculating External Capture Amplitudes...\n",
      "Calculating Lo-Matrix, Phases, and Penetrabilities...\n",
      "Calculating Legendre Polynomials...\n",
      "Calculating Coulomb Amplitudes...\n",
      "Calculating External Capture Amplitudes...\n",
      "Calculating Lo-Matrix, Phases, and Penetrabilities...\n",
      "Calculating Legendre Polynomials...\n",
      "Calculating Coulomb Amplitudes...\n",
      "Calculating External Capture Amplitudes...\n",
      "Calculating Lo-Matrix, Phases, and Penetrabilities...\n",
      "Calculating Legendre Polynomials...\n",
      "Calculating Coulomb Amplitudes...\n",
      "Calculating External Capture Amplitudes...\n",
      "Calculating Lo-Matrix, Phases, and Penetrabilities...\n",
      "Calculating Legendre Polynomials...\n",
      "Calculating Coulomb Amplitudes...\n",
      "Calculating External Capture Amplitudes...\n",
      "Calculating Lo-Matrix, Phases, and Penetrabilities...\n",
      "Calculating Legendre Polynomials...\n",
      "Calculating Coulomb Amplitudes...\n",
      "Calculating External Capture Amplitudes...\n",
      "Calculating Lo-Matrix, Phases, and Penetrabilities...\n",
      "Calculating Legendre Polynomials...\n",
      "Calculating Coulomb Amplitudes...\n",
      "Calculating External Capture Amplitudes...\n",
      "Calculating Lo-Matrix, Phases, and Penetrabilities...\n",
      "Calculating Legendre Polynomials...\n",
      "Calculating Coulomb Amplitudes...\n",
      "Calculating External Capture Amplitudes...\n",
      "Calculating Lo-Matrix, Phases, and Penetrabilities...\n",
      "Calculating Legendre Polynomials...\n",
      "Calculating Coulomb Amplitudes...\n",
      "Calculating External Capture Amplitudes...\n",
      "Calculating Lo-Matrix, Phases, and Penetrabilities...\n",
      "Calculating Legendre Polynomials...\n",
      "Calculating Coulomb Amplitudes...\n",
      "Calculating External Capture Amplitudes...\n",
      "Calculating Lo-Matrix, Phases, and Penetrabilities...\n",
      "Calculating Legendre Polynomials...\n",
      "Calculating Coulomb Amplitudes...\n",
      "Calculating External Capture Amplitudes...\n",
      "Calculating Lo-Matrix, Phases, and Penetrabilities...\n",
      "Calculating Legendre Polynomials...\n",
      "Calculating Coulomb Amplitudes...\n",
      "Calculating External Capture Amplitudes...\n",
      "Calculating Lo-Matrix, Phases, and Penetrabilities...\n",
      "Calculating Legendre Polynomials...\n",
      "Calculating Coulomb Amplitudes...\n",
      "Calculating External Capture Amplitudes...\n",
      "Calculating Lo-Matrix, Phases, and Penetrabilities...\n",
      "Calculating Legendre Polynomials...\n",
      "Calculating Coulomb Amplitudes...\n",
      "Calculating External Capture Amplitudes...\n",
      "Calculating Lo-Matrix, Phases, and Penetrabilities...\n",
      "Calculating Legendre Polynomials...\n",
      "Calculating Coulomb Amplitudes...\n",
      "Calculating External Capture Amplitudes...\n"
     ]
    }
   ],
   "source": [
    "# We read the .azr file and set the external capture file to speed up the calculation\n",
    "azr = azure2('test3.azr', nprocs=nprocs)"
   ]
  },
  {
   "cell_type": "code",
   "execution_count": 3,
   "metadata": {},
   "outputs": [],
   "source": [
    "# We get the initial values from AZURE2\n",
    "theta0 = azr.params\n",
    "ntheta = len(theta0)\n",
    "\n",
    "# We'll read the data from the output file since it's already in the center-of-mass frame\n",
    "y = azr.cross\n",
    "yerr = azr.cross_err\n",
    "\n",
    "# We define variables\n",
    "ndim     = len(theta0) + len(y)  # How many parameters are you fitting?\n",
    "nwalkers = 2 * ndim              # How many walkers do you want to use?"
   ]
  },
  {
   "cell_type": "code",
   "execution_count": 4,
   "metadata": {},
   "outputs": [],
   "source": [
    "# Create priors for all theta0, these must be uniforms in the 90% confidence interval\n",
    "for i, theta in enumerate(theta0):\n",
    "    priors.append(stats.uniform(-1e12, 2e12))\n",
    "\n",
    "# Add the priors for data that are uniform between 0 and 10 for each data in y\n",
    "for i, data in enumerate(y):\n",
    "    priors.append(stats.uniform(0.1, 9.9))"
   ]
  },
  {
   "cell_type": "code",
   "execution_count": 5,
   "metadata": {},
   "outputs": [],
   "source": [
    "# Prior log probability\n",
    "def lnPi( theta ):\n",
    "    return np.sum([pi.logpdf(t) for (pi, t) in zip(priors, theta)])\n",
    "\n",
    "# Log likelihood\n",
    "def lnL( theta, proc=0 ):\n",
    "    res = 0\n",
    "    mu = azr.calculate( theta[:ntheta], proc=proc )\n",
    "    for i in range( len( mu ) ):\n",
    "        idx = ntheta + i\n",
    "        res += -0.5 * np.sum( np.log(2 * np.pi * pow(yerr[i], 2) ) + pow((mu[i] - y[i] * theta[idx]) / (yerr[i] * theta[idx]), 2) )\n",
    "    return res\n",
    "\n",
    "# Posterior log probability\n",
    "def lnP( theta ):\n",
    "    try: proc = int(current_process().name.split('-')[1]) - 1 # We want to get the numbe r of the process to call the right AZURE2 port\n",
    "    except: proc = 0 \n",
    "    lnpi = lnPi( theta )\n",
    "    if not np.isfinite( lnpi ): return -np.inf\n",
    "    return lnL( theta, proc=proc ) + lnpi"
   ]
  },
  {
   "cell_type": "code",
   "execution_count": 6,
   "metadata": {},
   "outputs": [],
   "source": [
    "# Read normalizations.out to get best fit normalizations\n",
    "norms = np.genfromtxt('output/normalizations.out', delimiter=',', skip_header=1)[:,8]"
   ]
  },
  {
   "cell_type": "code",
   "execution_count": 7,
   "metadata": {},
   "outputs": [],
   "source": [
    "# Prepare initial walker positions\n",
    "p0 = np.zeros( (nwalkers, ndim) )\n",
    "for i in range(nwalkers):\n",
    "    for j in range(ndim):\n",
    "        if( j < ntheta ): \n",
    "            if( theta0[j] > 0 ): p0[i, j] = np.random.normal(theta0[j], 1e-5 * theta0[j])\n",
    "            else: p0[i, j] = np.random.normal(theta0[j], -1e-5 * theta0[j])\n",
    "        else: p0[i, j] = np.random.normal(norms[j - ntheta], 1e-5 * norms[j - ntheta])"
   ]
  },
  {
   "cell_type": "code",
   "execution_count": null,
   "metadata": {},
   "outputs": [
    {
     "name": "stdout",
     "output_type": "stream",
     "text": [
      "Starting from scratch\n"
     ]
    },
    {
     "name": "stderr",
     "output_type": "stream",
     "text": [
      "  0%|                                    | 9/100000 [01:20<247:52:29,  8.92s/it]"
     ]
    }
   ],
   "source": [
    "# Prepare the file to write the chains\n",
    "backend = emcee.backends.HDFBackend('results/samples.h5') \n",
    "\n",
    "try:\n",
    "    n_iterations_done = backend.iteration\n",
    "    print(f\"Restarting from iteration {n_iterations_done}\")\n",
    "    with Pool(processes=nprocs) as pool:\n",
    "        sampler = emcee.EnsembleSampler( nwalkers, ndim, lnP, pool=pool, backend=backend ) \n",
    "        state = sampler.run_mcmc( None, nsteps, progress=True, tune=True )\n",
    "\n",
    "except:\n",
    "    print(\"Starting from scratch\")\n",
    "    with Pool(processes=nprocs) as pool:\n",
    "        sampler = emcee.EnsembleSampler( nwalkers, ndim, lnP, pool=pool, backend=backend ) \n",
    "        state = sampler.run_mcmc( p0, nsteps, progress=True, tune=True )"
   ]
  }
 ],
 "metadata": {
  "kernelspec": {
   "display_name": "Python 3 (ipykernel)",
   "language": "python",
   "name": "python3"
  },
  "language_info": {
   "codemirror_mode": {
    "name": "ipython",
    "version": 3
   },
   "file_extension": ".py",
   "mimetype": "text/x-python",
   "name": "python",
   "nbconvert_exporter": "python",
   "pygments_lexer": "ipython3",
   "version": "3.12.7"
  }
 },
 "nbformat": 4,
 "nbformat_minor": 4
}
